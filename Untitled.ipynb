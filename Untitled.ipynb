{
 "cells": [
  {
   "cell_type": "code",
   "execution_count": 1,
   "id": "2f63b1b8",
   "metadata": {},
   "outputs": [
    {
     "ename": "ValueError",
     "evalue": "invalid literal for int() with base 10: '365371O'",
     "output_type": "error",
     "traceback": [
      "\u001b[1;31m---------------------------------------------------------------------------\u001b[0m",
      "\u001b[1;31mValueError\u001b[0m                                Traceback (most recent call last)",
      "Cell \u001b[1;32mIn[1], line 50\u001b[0m\n\u001b[0;32m     48\u001b[0m extractor \u001b[38;5;241m=\u001b[39m DataExtractor(\u001b[38;5;124m\"\u001b[39m\u001b[38;5;124minvoices_new.pkl\u001b[39m\u001b[38;5;124m\"\u001b[39m, \u001b[38;5;124m\"\u001b[39m\u001b[38;5;124mexpired_invoices.txt\u001b[39m\u001b[38;5;124m\"\u001b[39m)\n\u001b[0;32m     49\u001b[0m \u001b[38;5;28;01mif\u001b[39;00m extractor\u001b[38;5;241m.\u001b[39mload_data():\n\u001b[1;32m---> 50\u001b[0m     result_df \u001b[38;5;241m=\u001b[39m extractor\u001b[38;5;241m.\u001b[39mextract_data()\n\u001b[0;32m     51\u001b[0m     \u001b[38;5;28mprint\u001b[39m(result_df\u001b[38;5;241m.\u001b[39mhead())  \u001b[38;5;66;03m# Print first few rows of the resulting dataframe\u001b[39;00m\n\u001b[0;32m     52\u001b[0m     result_df\u001b[38;5;241m.\u001b[39mto_csv(\u001b[38;5;124m\"\u001b[39m\u001b[38;5;124mresulting_dataframe.csv\u001b[39m\u001b[38;5;124m\"\u001b[39m, index\u001b[38;5;241m=\u001b[39m\u001b[38;5;28;01mFalse\u001b[39;00m)\n",
      "Cell \u001b[1;32mIn[1], line 27\u001b[0m, in \u001b[0;36mDataExtractor.extract_data\u001b[1;34m(self)\u001b[0m\n\u001b[0;32m     25\u001b[0m flat_data \u001b[38;5;241m=\u001b[39m []\n\u001b[0;32m     26\u001b[0m \u001b[38;5;28;01mfor\u001b[39;00m invoice \u001b[38;5;129;01min\u001b[39;00m \u001b[38;5;28mself\u001b[39m\u001b[38;5;241m.\u001b[39minvoices_data:\n\u001b[1;32m---> 27\u001b[0m     invoice_id \u001b[38;5;241m=\u001b[39m \u001b[38;5;28mint\u001b[39m(invoice[\u001b[38;5;124m'\u001b[39m\u001b[38;5;124mid\u001b[39m\u001b[38;5;124m'\u001b[39m])\n\u001b[0;32m     28\u001b[0m     created_on \u001b[38;5;241m=\u001b[39m pd\u001b[38;5;241m.\u001b[39mto_datetime(invoice[\u001b[38;5;124m'\u001b[39m\u001b[38;5;124mcreated_on\u001b[39m\u001b[38;5;124m'\u001b[39m])\n\u001b[0;32m     30\u001b[0m     \u001b[38;5;28;01mfor\u001b[39;00m item \u001b[38;5;129;01min\u001b[39;00m invoice[\u001b[38;5;124m'\u001b[39m\u001b[38;5;124mitems\u001b[39m\u001b[38;5;124m'\u001b[39m]:\n",
      "\u001b[1;31mValueError\u001b[0m: invalid literal for int() with base 10: '365371O'"
     ]
    }
   ],
   "source": [
    "import pandas as pd\n",
    "import numpy as np\n",
    "import pickle\n",
    "from datetime import datetime\n",
    "\n",
    "class DataExtractor:\n",
    "    def __init__(self, invoices_file, expired_invoices_file):\n",
    "        self.invoices_file = invoices_file\n",
    "        self.expired_invoices_file = expired_invoices_file\n",
    "\n",
    "    def load_data(self):\n",
    "        try:\n",
    "            self.invoices_data = pd.read_pickle(self.invoices_file)\n",
    "            self.expired_invoices = pd.read_csv(self.expired_invoices_file, header=None)[0].tolist()\n",
    "            return True\n",
    "        except FileNotFoundError:\n",
    "            print(\"File not found. Please provide correct file paths.\")\n",
    "            return False\n",
    "\n",
    "    def extract_data(self):\n",
    "        if not hasattr(self, 'invoices_data') or not hasattr(self, 'expired_invoices'):\n",
    "            print(\"Data not loaded. Please load the data first.\")\n",
    "            return None\n",
    "        \n",
    "        flat_data = []\n",
    "        for invoice in self.invoices_data:\n",
    "            invoice_id = int(invoice['id'])\n",
    "            created_on = pd.to_datetime(invoice['created_on'])\n",
    "\n",
    "            for item in invoice['items']:\n",
    "                item_id = item['item']['id']\n",
    "                item_name = item['item']['name']\n",
    "                unit_price = item['item']['unit_price']\n",
    "                quantity = item['quantity']\n",
    "                item_type = {0: 'Material', 1: 'Equipment', 2: 'Service', 3: 'Other'}.get(item['item']['type'], 'Unknown')\n",
    "                total_price = unit_price * quantity\n",
    "                percentage_in_invoice = total_price / sum([i['item']['unit_price'] * i['quantity'] for i in invoice['items']])\n",
    "                is_expired = invoice_id in self.expired_invoices\n",
    "\n",
    "                flat_data.append([invoice_id, created_on, item_id, item_name, item_type, unit_price, total_price, percentage_in_invoice, is_expired])\n",
    "\n",
    "        columns = ['invoice_id', 'created_on', 'invoiceitem_id', 'invoiceitem_name', 'type', 'unit_price', 'total_price', 'percentage_in_invoice', 'is_expired']\n",
    "        df = pd.DataFrame(flat_data, columns=columns)\n",
    "        df.sort_values(by=['invoice_id', 'invoiceitem_id'], inplace=True)\n",
    "        return df\n",
    "\n",
    "# Usage example\n",
    "extractor = DataExtractor(\"invoices_new.pkl\", \"expired_invoices.txt\")\n",
    "if extractor.load_data():\n",
    "    result_df = extractor.extract_data()\n",
    "    print(result_df.head())  # Print first few rows of the resulting dataframe\n",
    "    result_df.to_csv(\"resulting_dataframe.csv\", index=False)  # Save resulting dataframe to CSV\n"
   ]
  },
  {
   "cell_type": "code",
   "execution_count": null,
   "id": "726353d6",
   "metadata": {},
   "outputs": [],
   "source": []
  }
 ],
 "metadata": {
  "kernelspec": {
   "display_name": "Python 3 (ipykernel)",
   "language": "python",
   "name": "python3"
  },
  "language_info": {
   "codemirror_mode": {
    "name": "ipython",
    "version": 3
   },
   "file_extension": ".py",
   "mimetype": "text/x-python",
   "name": "python",
   "nbconvert_exporter": "python",
   "pygments_lexer": "ipython3",
   "version": "3.11.5"
  }
 },
 "nbformat": 4,
 "nbformat_minor": 5
}
